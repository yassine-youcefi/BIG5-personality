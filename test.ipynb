{
 "cells": [
  {
   "cell_type": "code",
   "execution_count": 4,
   "metadata": {},
   "outputs": [],
   "source": [
    "import pickle\n",
    "from sklearn.ensemble import RandomForestRegressor, RandomForestClassifier\n",
    "from data_prep import DataPrep\n",
    "from sklearn.feature_extraction.text import TfidfVectorizer\n",
    "from sklearn.neural_network import MLPClassifier  \n",
    "import matplotlib.pyplot as plt \n",
    "from sklearn.model_selection import train_test_split \n",
    "from model import Model\n",
    "\n"
   ]
  },
  {
   "cell_type": "code",
   "execution_count": null,
   "metadata": {},
   "outputs": [],
   "source": [
    "traits = ['OPN', 'CON', 'EXT', 'AGR', 'NEU']\n",
    "model = Model()\n",
    "\n",
    "for trait in traits:\n",
    "    dp = DataPrep()\n",
    "    X_regression, y_regression = dp.prep_data('status', trait, regression=True, model_comparison=False)\n",
    "    X_categorical, y_categorical = dp.prep_data('status', trait, regression=False, model_comparison=False)\n",
    "\n",
    "    # Splitting the data into training set and test set\n",
    "    X_regression_train, X_regression_test, y_regression_train, y_regression_test = train_test_split(X_regression, y_regression, test_size = 0.2, random_state = 0)\n",
    "    X_categorical_train, X_categorical_test, y_categorical_train, y_categorical_test = train_test_split(X_categorical, y_categorical, test_size = 0.2, random_state = 0)\n",
    "\n",
    "\n",
    "    # Fitting Random Forest Regression to the Training set\n",
    "    print('Fitting trait ' + trait + ' regression model...')\n",
    "    regression_model = model.fit(X_regression_train, y_regression_train, regression=True)\n",
    "    regression_prediction = model.predict(X_regression_test, regression=True)\n",
    "    # print('regression accuracy', regression_model.score(X_regression_test, y_regression_test, regression=True))\n",
    "    print('Done!')\n",
    "\n",
    "    # Fitting Random Forest Classification to the Training set\n",
    "    print('Fitting trait ' + trait + ' categorical model...')\n",
    "    categorical_model = model.fit(X_categorical_train, y_categorical_train, regression=False)\n",
    "    categorical_prediction = model.predict(X_categorical_train, y_categorical_train , regression=False)\n",
    "    # print('categorical accuracy', categorical_model.score(X_categorical_test, y_categorical_test, regression=False))\n",
    "\n",
    "    print('Done!')\n",
    "\n",
    "    \n"
   ]
  }
 ],
 "metadata": {
  "interpreter": {
   "hash": "916dbcbb3f70747c44a77c7bcd40155683ae19c65e1c03b4aa3499c5328201f1"
  },
  "kernelspec": {
   "display_name": "Python 3.8.10 64-bit",
   "name": "python3"
  },
  "language_info": {
   "codemirror_mode": {
    "name": "ipython",
    "version": 3
   },
   "file_extension": ".py",
   "mimetype": "text/x-python",
   "name": "python",
   "nbconvert_exporter": "python",
   "pygments_lexer": "ipython3",
   "version": "3.8.10"
  },
  "orig_nbformat": 4
 },
 "nbformat": 4,
 "nbformat_minor": 2
}
